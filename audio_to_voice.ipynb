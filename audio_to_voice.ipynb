{
  "nbformat": 4,
  "nbformat_minor": 0,
  "metadata": {
    "colab": {
      "name": "audio_to_voice.ipynb",
      "provenance": []
    },
    "kernelspec": {
      "name": "python3",
      "display_name": "Python 3"
    }
  },
  "cells": [
    {
      "cell_type": "code",
      "metadata": {
        "colab": {
          "base_uri": "https://localhost:8080/"
        },
        "id": "U9yhyneIVX0i",
        "outputId": "283bd07c-4cb7-4355-f3cb-9a94bef6844e"
      },
      "source": [
        "pip install pydub"
      ],
      "execution_count": 2,
      "outputs": [
        {
          "output_type": "stream",
          "text": [
            "Collecting pydub\n",
            "  Downloading https://files.pythonhosted.org/packages/a6/53/d78dc063216e62fc55f6b2eebb447f6a4b0a59f55c8406376f76bf959b08/pydub-0.25.1-py2.py3-none-any.whl\n",
            "Installing collected packages: pydub\n",
            "Successfully installed pydub-0.25.1\n"
          ],
          "name": "stdout"
        }
      ]
    },
    {
      "cell_type": "code",
      "metadata": {
        "colab": {
          "base_uri": "https://localhost:8080/"
        },
        "id": "57b1RzN3VlWJ",
        "outputId": "6f30ebc8-db68-4cd0-c140-b58def25d49c"
      },
      "source": [
        "pip install SpeechRecognition"
      ],
      "execution_count": 3,
      "outputs": [
        {
          "output_type": "stream",
          "text": [
            "Collecting SpeechRecognition\n",
            "\u001b[?25l  Downloading https://files.pythonhosted.org/packages/26/e1/7f5678cd94ec1234269d23756dbdaa4c8cfaed973412f88ae8adf7893a50/SpeechRecognition-3.8.1-py2.py3-none-any.whl (32.8MB)\n",
            "\u001b[K     |████████████████████████████████| 32.8MB 109kB/s \n",
            "\u001b[?25hInstalling collected packages: SpeechRecognition\n",
            "Successfully installed SpeechRecognition-3.8.1\n"
          ],
          "name": "stdout"
        }
      ]
    },
    {
      "cell_type": "code",
      "metadata": {
        "id": "zYOJFl74biV-"
      },
      "source": [
        "# importing libraries \r\n",
        "import speech_recognition as sr \r\n",
        "  \r\n",
        "import os \r\n",
        "  \r\n",
        "from pydub import AudioSegment \r\n",
        "from pydub.silence import split_on_silence"
      ],
      "execution_count": 4,
      "outputs": []
    },
    {
      "cell_type": "code",
      "metadata": {
        "id": "T7OgSEENSrxd"
      },
      "source": [
        "# for small file "
      ],
      "execution_count": null,
      "outputs": []
    },
    {
      "cell_type": "code",
      "metadata": {
        "id": "3FyBvK0yboQq"
      },
      "source": [
        "filename = \"chir2.wav\""
      ],
      "execution_count": 9,
      "outputs": []
    },
    {
      "cell_type": "code",
      "metadata": {
        "id": "iqVaDPnuQUuK"
      },
      "source": [
        "# initialize the recognizer\r\n",
        "r = sr.Recognizer()"
      ],
      "execution_count": 10,
      "outputs": []
    },
    {
      "cell_type": "code",
      "metadata": {
        "colab": {
          "base_uri": "https://localhost:8080/"
        },
        "id": "cfGyAuzWcXlJ",
        "outputId": "0289ae7f-f382-4026-d026-e26875b178d7"
      },
      "source": [
        "# open the file\r\n",
        "with sr.AudioFile(filename) as source:\r\n",
        "    # listen for the data (load audio to memory)\r\n",
        "    audio_data = r.record(source)\r\n",
        "    # recognize (convert from speech to text)\r\n",
        "    text = r.recognize_google(audio_data)\r\n",
        "    print(text)"
      ],
      "execution_count": 11,
      "outputs": [
        {
          "output_type": "stream",
          "text": [
            "book called works well for the small and medium-sized audiophiles we are going to write code for large files if you want to Live Nation for a long audio 512\n"
          ],
          "name": "stdout"
        }
      ]
    },
    {
      "cell_type": "code",
      "metadata": {
        "id": "iIaPzmj0Smer"
      },
      "source": [
        "# For larger file "
      ],
      "execution_count": null,
      "outputs": []
    },
    {
      "cell_type": "code",
      "metadata": {
        "id": "_QbkM4sQiDvT"
      },
      "source": [
        "# importing libraries \r\n",
        "import speech_recognition as sr \r\n",
        "import os \r\n",
        "from pydub import AudioSegment\r\n",
        "from pydub.silence import split_on_silence\r\n",
        "\r\n",
        "# create a speech recognition object\r\n",
        "r = sr.Recognizer()\r\n",
        "\r\n",
        "# a function that splits the audio file into chunks\r\n",
        "# and applies speech recognition\r\n",
        "def get_large_audio_transcription(path):\r\n",
        "    \"\"\"\r\n",
        "    Splitting the large audio file into chunks\r\n",
        "    and apply speech recognition on each of these chunks\r\n",
        "    \"\"\"\r\n",
        "    # open the audio file using pydub\r\n",
        "    sound = AudioSegment.from_wav(path)  \r\n",
        "    # split audio sound where silence is 700 miliseconds or more and get chunks\r\n",
        "    chunks = split_on_silence(sound,\r\n",
        "        # experiment with this value for your target audio file\r\n",
        "        min_silence_len = 500,\r\n",
        "        # adjust this per requirement\r\n",
        "        silence_thresh = sound.dBFS-14,\r\n",
        "        # keep the silence for 1 second, adjustable as well\r\n",
        "        keep_silence=500,\r\n",
        "    )\r\n",
        "    folder_name = \"audio-chunks\"\r\n",
        "    # create a directory to store the audio chunks\r\n",
        "    if not os.path.isdir(folder_name):\r\n",
        "        os.mkdir(folder_name)\r\n",
        "    whole_text = \"\"\r\n",
        "    # process each chunk \r\n",
        "    for i, audio_chunk in enumerate(chunks, start=1):\r\n",
        "        # export audio chunk and save it in\r\n",
        "        # the `folder_name` directory.\r\n",
        "        chunk_filename = os.path.join(folder_name, f\"chunk{i}.wav\")\r\n",
        "        audio_chunk.export(chunk_filename, format=\"wav\")\r\n",
        "        # recognize the chunk\r\n",
        "        with sr.AudioFile(chunk_filename) as source:\r\n",
        "            audio_listened = r.record(source)\r\n",
        "            # try converting it to text\r\n",
        "            try:\r\n",
        "                text = r.recognize_google(audio_listened)\r\n",
        "            except sr.UnknownValueError as e:\r\n",
        "                print(\"Error:\", str(e))\r\n",
        "            else:\r\n",
        "                text = f\"{text.capitalize()}. \"\r\n",
        "                print(chunk_filename, \":\", text)\r\n",
        "                whole_text += text\r\n",
        "    # return the text for all chunks detected\r\n",
        "    return whole_text"
      ],
      "execution_count": 12,
      "outputs": []
    },
    {
      "cell_type": "code",
      "metadata": {
        "colab": {
          "base_uri": "https://localhost:8080/",
          "height": 148
        },
        "id": "MJpoZ6EISGyg",
        "outputId": "cd4153ad-d4a1-4cae-a9f1-9a5bff28b069"
      },
      "source": [
        "get_large_audio_transcription('chir2.wav')"
      ],
      "execution_count": 13,
      "outputs": [
        {
          "output_type": "stream",
          "text": [
            "audio-chunks/chunk1.wav : The book called works well for the small and medium-sized audiophiles. \n",
            "audio-chunks/chunk2.wav : In the next section we are going to write code for large files. \n",
            "audio-chunks/chunk3.wav : If you want to fun switzerland mission for a long. \n",
            "audio-chunks/chunk4.wav : Audiophile jen. \n",
            "audio-chunks/chunk5.wav : Tabular function. \n",
            "audio-chunks/chunk6.wav : Understood quite well. \n"
          ],
          "name": "stdout"
        },
        {
          "output_type": "execute_result",
          "data": {
            "application/vnd.google.colaboratory.intrinsic+json": {
              "type": "string"
            },
            "text/plain": [
              "'The book called works well for the small and medium-sized audiophiles. In the next section we are going to write code for large files. If you want to fun switzerland mission for a long. Audiophile jen. Tabular function. Understood quite well. '"
            ]
          },
          "metadata": {
            "tags": []
          },
          "execution_count": 13
        }
      ]
    },
    {
      "cell_type": "code",
      "metadata": {
        "id": "ynI2DAW2UfWr"
      },
      "source": [
        ""
      ],
      "execution_count": null,
      "outputs": []
    }
  ]
}