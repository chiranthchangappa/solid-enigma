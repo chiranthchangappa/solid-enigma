{
 "cells": [
  {
   "cell_type": "code",
   "execution_count": 200,
   "metadata": {},
   "outputs": [
    {
     "name": "stdout",
     "output_type": "stream",
     "text": [
      "2015 936\n",
      "2016 993\n",
      "2017 443\n"
     ]
    },
    {
     "data": {
      "image/png": "[encoded data removed]",
      "text/plain": [
       "<Figure size 432x288 with 1 Axes>"
      ]
     },
     "metadata": {
      "needs_background": "light"
     },
     "output_type": "display_data"
    }
   ],
   "source": [
    "#Check the trend of investments over the years. To check the trend, find -\n",
    "#Total number of fundings done in each year.\n",
    "#Plot a line graph between year and number of fundings. Take year on x-axis and number of fundings on y-axis.\n",
    "#Print year-wise total number of fundings also. Print years in ascending order.\n",
    "#Note :\n",
    "#There is some error in the 'Date' feature. Make sure to handle that.\n",
    "#Output Format :\n",
    "#year1 TotalFunding1\n",
    "#year2 TotalFunding2\n",
    "#.....\n",
    "import matplotlib.pyplot as plt\n",
    "import csv \n",
    "import numpy as np\n",
    "\n",
    "file_obj = open('C:/Users/Chiranth SB/Downloads/startup_funding.csv',encoding=\"cp437\", errors='ignore')\n",
    "file_data = csv.DictReader(file_obj, skipinitialspace = True)\n",
    "\n",
    "year = []\n",
    "for i in file_data:\n",
    "    y = int(i['Date'][-4:])\n",
    "    year.append(y)\n",
    "\n",
    "d = {}\n",
    "for i in year:\n",
    "    d[i] = d.get(i,0) + 1\n",
    "\n",
    "sorted_d = sorted(d.items(), reverse=False)\n",
    "\n",
    "y = []\n",
    "c = []\n",
    "\n",
    "for i in sorted_d:\n",
    "    y.append(i[0])\n",
    "    c.append(i[1])\n",
    "\n",
    "plt.plot(y,c)\n",
    "plt.xticks(rotation = 40)\n",
    "plt.show\n",
    "\n",
    "for i in range(len(c)):\n",
    "    print(y[i],c[i])"
   ]
  },
  {
   "cell_type": "code",
   "execution_count": 223,
   "metadata": {},
   "outputs": [
    {
     "name": "stdout",
     "output_type": "stream",
     "text": [
      "Bangalore 635\n",
      "Mumbai 449\n",
      "New Delhi 389\n",
      "Gurgaon 241\n",
      "Pune 91\n",
      "Noida 79\n",
      "Hyderabad 77\n",
      "Chennai 67\n",
      "Ahmedabad 35\n",
      "Jaipur 25\n"
     ]
    },
    {
     "data": {
      "image/png": "[encoded data removed]",
      "text/plain": [
       "<Figure size 432x288 with 1 Axes>"
      ]
     },
     "metadata": {},
     "output_type": "display_data"
    }
   ],
   "source": [
    "#Find out which cities are generally chosen for starting a startup.\n",
    "#Find top 10 Indian cities which have most number of startups ?\n",
    "#Plot a pie chart and visualise it.\n",
    "#Print the city name and number of startups in that city also.\n",
    "#Note :\n",
    "#Take city name \"Delhi\" as \"New Delhi\".\n",
    "#Check the case-sensitiveness of cities also. That means - at some place, instead of \"Bangalore\", \"bangalore\" is given. Take city name as \"Bangalore\".\n",
    "#For few startups multiple locations are given, one Indian and one Foreign. Count those startups in Indian startup also. Indian city name is first.\n",
    "#Print the city in descending order with respect to the number of startups.\n",
    "#Output Format :\n",
    "#city1 number1\n",
    "#city2 number2\n",
    "#. . . \n",
    "import matplotlib.pyplot as plt\n",
    "import csv \n",
    "import pandas as pd\n",
    "\n",
    "file_obj = pd.read_csv('C:\\\\Users\\\\Chiranth SB\\\\Downloads\\\\startup_funding.csv')\n",
    "df = file_obj.copy()\n",
    "df['CityLocation'].dropna(inplace=True)\n",
    "def seperatecity(city):\n",
    "    return city.split('/')[0].strip()\n",
    "df['CityLocation'] = df['CityLocation'].apply(seperatecity)\n",
    "df['CityLocation'] = df['CityLocation'].replace('Delhi', 'New Delhi')\n",
    "df['CityLocation'] = df['CityLocation'].str.lower().str.title() #camelcase \n",
    "temp = df.CityLocation.value_counts()\n",
    "city = []\n",
    "strup = []\n",
    "for i in range(10):\n",
    "    city.append(temp.index[i])\n",
    "    strup.append(temp.values[i])\n",
    "    print(temp.index[i], temp.values[i])\n",
    "plt.pie(strup, labels = city)\n",
    "plt.show()"
   ]
  },
  {
   "cell_type": "code",
   "execution_count": 17,
   "metadata": {},
   "outputs": [
    {
     "name": "stdout",
     "output_type": "stream",
     "text": [
      "Bangalore 49.71\n",
      "New Delhi 16.63\n",
      "Mumbai 13.90\n",
      "Gurgaon 12.21\n",
      "Chennai 2.43\n",
      "Pune 2.16\n",
      "Hyderabad 1.15\n",
      "Noida 1.01\n",
      "Ahmedabad 0.58\n",
      "Jaipur 0.21\n"
     ]
    }
   ],
   "source": [
    "#Problem Statement :\n",
    "#find out if cities play any role in receiving funding.\n",
    "#Find top 10 Indian cities with most amount of fundings received. Find out percentage of funding each city has got (among top 10 Indian cities only).\n",
    "#Print the city and percentage with 2 decimal place after rounding off.\n",
    "#Note:\n",
    "#Take city name \"Delhi\" as \"New Delhi\".\n",
    "#Check the case-sensitiveness of cities also. That means - at some place, instead of \"Bangalore\", \"bangalore\" is given. Take city name as \"Bangalore\".\n",
    "#For few startups multiple locations are given, one Indian and one Foreign. Count those startups in Indian startup also. Indian city name is first.\n",
    "#Print the city in descending order with respect to the percentage of funding.\n",
    "#Output Format :\n",
    "#city1 percent1\n",
    "#city2 percent2\n",
    "#city3 percent3\n",
    "#. . . \n",
    "import csv \n",
    "import pandas as pd\n",
    "\n",
    "file_obj = pd.read_csv('C:\\\\Users\\\\Chiranth SB\\\\Downloads\\\\startup_funding.csv')\n",
    "df = file_obj.copy()\n",
    "df = df.dropna(subset=['CityLocation'])\n",
    "def seperatecity(city):\n",
    "    return city.split('/')[0].strip()\n",
    "df['CityLocation'] = df['CityLocation'].apply(seperatecity)\n",
    "df['CityLocation'] = df['CityLocation'].replace('Delhi', 'New Delhi')\n",
    "df['CityLocation'] = df['CityLocation'].str.lower().str.title() #camelcase \n",
    "df = df.dropna(subset=['AmountInUSD'])\n",
    "df.reset_index(drop = True, inplace=True)\n",
    "df['AmountInUSD'] = df['AmountInUSD'].str.replace(',', '').astype(float)\n",
    "vab = df.groupby('CityLocation').AmountInUSD.sum()\n",
    "top_10 = vab.nlargest(10) \n",
    "cities = ['Bangalore', 'New Delhi', 'Mumbai', 'Gurgaon', 'Chennai', 'Pune', 'Hyderabad', 'Noida', 'Ahmedabad', 'Jaipur']\n",
    "amt = []\n",
    "total = sum(top_10.values)\n",
    "for i in top_10:\n",
    "    amt.append(i)\n",
    "for i in range(len(amt)):\n",
    "    print(cities[i], format((amt[i]*100)/total,'.2f'))"
   ]
  },
  {
   "cell_type": "code",
   "execution_count": 29,
   "metadata": {},
   "outputs": [
    {
     "name": "stdout",
     "output_type": "stream",
     "text": [
      "Bangalore 49.71\n",
      "New Delhi 16.63\n",
      "Mumbai 13.90\n",
      "Gurgaon 12.21\n",
      "Chennai 2.43\n",
      "Pune 2.16\n",
      "Hyderabad 1.15\n",
      "Noida 1.01\n",
      "Ahmedabad 0.58\n",
      "Jaipur 0.21\n"
     ]
    }
   ],
   "source": [
    "#Better method\n",
    "import numpy as np\n",
    "import pandas as pd\n",
    "import matplotlib.pyplot as plt\n",
    "\n",
    "file_obj = pd.read_csv('C:\\\\Users\\\\Chiranth SB\\\\Downloads\\\\startup_funding.csv')\n",
    "df = file_obj.copy()\n",
    "df = df.dropna(subset=['CityLocation'])\n",
    "def seperatecity(city):\n",
    "    return city.split('/')[0].strip()\n",
    "df['CityLocation'] = df['CityLocation'].apply(seperatecity)\n",
    "df['CityLocation'] = df['CityLocation'].replace('Delhi', 'New Delhi')\n",
    "df['CityLocation'] = df['CityLocation'].str.lower().str.title() #camelcase \n",
    "df['CityLocation'].dropna(inplace=True)\n",
    "df['AmountInUSD'].dropna(inplace=True)\n",
    "\n",
    "df['AmountInUSD'] = df['AmountInUSD'].apply(lambda x: float(str(x).replace(\",\", \"\")))\n",
    "city_num = df.groupby('CityLocation').AmountInUSD.sum().[:10]\n",
    "city = city_num.index\n",
    "fund = city_num.values\n",
    "y = sum(fund)\n",
    "for i in range(len(city)):\n",
    "               print(city[i],format((fund[i]*100)/y,'.2f'))"
   ]
  },
  {
   "cell_type": "code",
   "execution_count": 38,
   "metadata": {},
   "outputs": [
    {
     "name": "stdout",
     "output_type": "stream",
     "text": [
      "Private Equity 98.15\n",
      "Seed Funding 1.81\n",
      "Debt Funding 0.04\n",
      "Crowd Funding 0.00\n"
     ]
    },
    {
     "data": {
      "image/png": "[encoded data removed]",
      "text/plain": [
       "<Figure size 432x288 with 1 Axes>"
      ]
     },
     "metadata": {},
     "output_type": "display_data"
    }
   ],
   "source": [
    "#There are 4 different type of investments. Find out percentage of amount funded for each investment type.\n",
    "#Plot a pie chart to visualise.\n",
    "#Print the investment type and percentage of amount funded with 2 decimal places after rounding off.\n",
    "#Note :\n",
    "#Correct spelling of investment types are - \"Private Equity\", \"Seed Funding\", \"Debt Funding\", and \"Crowd Funding\". Keep an eye for any spelling mistake. You can find this by printing unique values from this column.\n",
    "#Print the investment type in descending order with respect to the percentage of the amount funded.\n",
    "#Output Format :\n",
    "#investmentType1 percent1\n",
    "#investmentType2 percent2\n",
    "#investmentType3 percent3\n",
    "#. . . \n",
    "import pandas as pd\n",
    "import csv\n",
    "import matplotlib.pyplot as plt\n",
    "\n",
    "file_data = pd.read_csv('C:\\\\Users\\\\Chiranth SB\\\\Downloads\\\\startup_funding.csv')\n",
    "df = file_data.copy()\n",
    "df['InvestmentType'].replace('SeedFunding', 'Seed Funding', inplace=True)\n",
    "df['InvestmentType'].replace('PrivateEquity', 'Private Equity', inplace=True)\n",
    "df['InvestmentType'].replace('Crowd funding', 'Crowd Funding', inplace=True)\n",
    "df.dropna(subset=['AmountInUSD'], inplace=True)\n",
    "df['AmountInUSD'] = df['AmountInUSD'].str.replace(',', '').astype(float)\n",
    "total = df['AmountInUSD'].sum()\n",
    "var = df.groupby('InvestmentType').AmountInUSD.sum().sort_values(ascending=False)[:10]\n",
    "type = var.index\n",
    "mon  = var.values\n",
    "tot = sum(mon)\n",
    "for i in range(len(mon)):\n",
    "    print(type[i], format((mon[i]*100)/tot,'.2f'))\n",
    "plt.pie(mon, labels=type)\n",
    "plt.show()"
   ]
  },
  {
   "cell_type": "code",
   "execution_count": 62,
   "metadata": {},
   "outputs": [
    {
     "name": "stdout",
     "output_type": "stream",
     "text": [
      "Ecommerce 40.53\n",
      "Consumer Internet 35.95\n",
      "Technology 10.45\n",
      "Online Marketplace 6.63\n",
      "E-Commerce & M-Commerce platform 6.44\n"
     ]
    }
   ],
   "source": [
    "#Problem Statement :\n",
    "#Which type of companies got more easily funding. To answer this question, find -\n",
    "#Top 5 industries and percentage of the total amount funded to that industry. (among top 5 only)\n",
    "#Print the industry name and percentage of the amount funded with 2 decimal place after rounding off.\n",
    "#Note :\n",
    "#Ecommerce is the right word in IndustryVertical, so correct it.\n",
    "#Print the industry in descending order with respect to the percentage of the amount funded.\n",
    "#Output Format :\n",
    "#industry1 percent1\n",
    "#industry2 percent2\n",
    "#industry3 percent3\n",
    "#. . . \n",
    "import pandas as pd\n",
    "import csv\n",
    "\n",
    "file_data = pd.read_csv('C:\\\\Users\\\\Chiranth SB\\\\Downloads\\\\startup_funding.csv')\n",
    "df = file_data.copy()\n",
    "df['IndustryVertical'].replace('eCommerce', 'Ecommerce', inplace=True)\n",
    "df['IndustryVertical'].replace('ECommerce', 'Ecommerce', inplace=True)\n",
    "df['IndustryVertical'].replace('ecommerce','Ecommerce',inplace = True)\n",
    "df.dropna(subset=['IndustryVertical'], inplace=True)\n",
    "df.dropna(subset=['AmountInUSD'], inplace=True)\n",
    "df['AmountInUSD'] = df['AmountInUSD'].str.replace(',', '').astype(float)\n",
    "#df['AmountInUSD'] = df['AmountInUSD'].apply(lambda x: float(str(x).replace(\",\", \"\")))\n",
    "\n",
    "indus = df.groupby('IndustryVertical').AmountInUSD.sum().sort_values(ascending=False)[:5]\n",
    "in_type = indus.index\n",
    "fund = indus.values\n",
    "y = sum(fund)\n",
    "for i in range(len(fund)):\n",
    "    print(in_type[i], format((fund[i]*100)/y,'.2f'))"
   ]
  },
  {
   "cell_type": "code",
   "execution_count": 73,
   "metadata": {},
   "outputs": [
    {
     "name": "stdout",
     "output_type": "stream",
     "text": [
      "Paytm\n",
      "Flipkart\n",
      "Ola\n",
      "Snapdeal\n",
      "Oyo\n"
     ]
    }
   ],
   "source": [
    "#Find top 5 startups with most amount of total funding.\n",
    "#Print the startup name in descending order with respect to amount of funding.\n",
    "#Note:\n",
    "#Ola, Flipkart, Oyo, Paytm are important startups, so correct their names.\n",
    "#There are many errors in startup names, ignore correcting all, just handle important ones.\n",
    "#Output Format :\n",
    "#startup1\n",
    "#startup2\n",
    "#startup3\n",
    "#. . . \n",
    "import pandas as pd\n",
    "\n",
    "file_data = pd.read_csv('C:\\\\Users\\\\Chiranth SB\\\\Downloads\\\\startup_funding.csv')\n",
    "df = file_data.copy()\n",
    "df['StartupName'].replace('Olacabs', 'Ola', inplace=True)\n",
    "df['StartupName'].replace('Ola Cabs', 'Ola', inplace=True)\n",
    "df['StartupName'].replace('Flipkart.com', 'Flipkart', inplace=True)\n",
    "df['StartupName'].replace('Oyo Rooms', 'Oyo', inplace=True)\n",
    "df['StartupName'].replace('Oyorooms', 'Oyo', inplace=True) \n",
    "df['StartupName'].replace('OyoRooms', 'Oyo', inplace=True)\n",
    "df['StartupName'].replace('Paytm Marketplace', 'Paytm', inplace=True)\n",
    "df.dropna(subset=['StartupName'], inplace=True)\n",
    "df.dropna(subset=['AmountInUSD'], inplace=True)\n",
    "df['AmountInUSD'] = df['AmountInUSD'].str.replace(',', '').astype(float)\n",
    "#df['AmountInUSD'] = df['AmountInUSD'].apply(lambda x: float(str(x).replace(\",\", \"\")))\n",
    "\n",
    "indus = df.groupby('StartupName').AmountInUSD.sum().sort_values(ascending=False)[:5]\n",
    "in_type = indus.index\n",
    "for i in range(len(in_type)):\n",
    "    print(in_type[i])"
   ]
  },
  {
   "cell_type": "code",
   "execution_count": 173,
   "metadata": {},
   "outputs": [
    {
     "name": "stdout",
     "output_type": "stream",
     "text": [
      "Ola 9\n",
      "Swiggy 7\n",
      "Oyo 6\n",
      "Paytm 6\n",
      "UrbanClap 6\n"
     ]
    }
   ],
   "source": [
    "#Problem Statement :\n",
    "#Find the top 5 startups who received the most number of funding rounds. That means, startups which got fundings maximum number of times.\n",
    "#Print the startup name in descending order with respect to the number of funding round as integer value.\n",
    "#Note:\n",
    "#Ola, Flipkart, Oyo, Paytm are important startups, so correct their names. There are many errors in startup names, ignore correcting all, just handle important ones.\n",
    "#Output Format :\n",
    "#startup1 number1\n",
    "#startup2 number2\n",
    "#startup3 number3\n",
    "#. . . \n",
    "import pandas as pd\n",
    "\n",
    "file_data = pd.read_csv('C:\\\\Users\\\\Chiranth SB\\\\Downloads\\\\startup_funding.csv')\n",
    "df = file_data.copy()\n",
    "df['StartupName'].replace('Olacabs', 'Ola', inplace=True)\n",
    "df['StartupName'].replace('Ola Cabs', 'Ola', inplace=True)\n",
    "df['StartupName'].replace('Flipkart.com', 'Flipkart', inplace=True)\n",
    "df['StartupName'].replace('Oyo Rooms', 'Oyo', inplace=True)\n",
    "df['StartupName'].replace('Oyorooms', 'Oyo', inplace=True) \n",
    "df['StartupName'].replace('OyoRooms', 'Oyo', inplace=True)\n",
    "df['StartupName'].replace('OYO Rooms', 'Oyo', inplace=True)\n",
    "df['StartupName'].replace('Paytm Marketplace', 'Paytm', inplace=True)\n",
    "ind = df.StartupName.value_counts()[:5]\n",
    "for i in range(len(ind)):\n",
    "    print(ind.index[i], ind.values[i])"
   ]
  },
  {
   "cell_type": "code",
   "execution_count": 9,
   "metadata": {},
   "outputs": [
    {
     "name": "stdout",
     "output_type": "stream",
     "text": [
      "Sequoia Capital 64\n"
     ]
    }
   ],
   "source": [
    "#Problem Statement :\n",
    "#Find the Investors who have invested maximum number of times.\n",
    "#Print the investor name and number of times invested as integer value.\n",
    "#Note:\n",
    "#In startup, multiple investors might have invested. So consider each investor for that startup.\n",
    "#Ignore the undisclosed investors.\n",
    "#Output Format :\n",
    "#investorname number\n",
    "\n",
    "\n",
    "import pandas as pd\n",
    "import operator\n",
    "\n",
    "file_data = pd.read_csv('C:\\\\Users\\\\Chiranth SB\\\\Downloads\\\\startup_funding.csv')\n",
    "df = file_data.copy()\n",
    "df = df[df.InvestorsName != 'Undisclosed']\n",
    "df = df[df.InvestorsName != 'Undisclosed Investors']\n",
    "df = df[df.InvestorsName != 'Undisclosed investors']\n",
    "df.InvestorsName.dropna(inplace=True)\n",
    "l = []\n",
    "for i in df.InvestorsName:\n",
    "    l.append(i.split(','))\n",
    "lis = []\n",
    "for i in l:\n",
    "    for j in i:\n",
    "        lis.append(j.strip())\n",
    "d = {}\n",
    "for i in lis:\n",
    "    d[i] = d.get(i,0) + 1\n",
    "\n",
    "sorted_d = sorted(d.items(), key=operator.itemgetter(1),reverse=True)\n",
    "j = 1\n",
    "for i in sorted_d:\n",
    "        print(i[0], i[1])\n",
    "        if j == 1:\n",
    "            break\n",
    "        j += 1\n",
    "#m = max(list(d.values()))\n",
    "#for i in d:\n",
    "#    if d[i] == m:\n",
    "#        print(i, d[i])"
   ]
  },
  {
   "cell_type": "code",
   "execution_count": 58,
   "metadata": {},
   "outputs": [
    {
     "name": "stdout",
     "output_type": "stream",
     "text": [
      "Sequoia Capital 64\n"
     ]
    }
   ],
   "source": [
    "#Better method\n",
    "import pandas as pd\n",
    "import matplotlib.pyplot as plt\n",
    "import operator\n",
    "\n",
    "df = pd.read_csv('startup_funding.csv')\n",
    "df.dropna(subset=['InvestorsName'],inplace=True)\n",
    "d={}\n",
    "for i in df.index:\n",
    "    inves = df.InvestorsName[i].split(',')\n",
    "    for j in inves:\n",
    "        d[j.strip()] = d.get(j.strip(),0) + 1\n",
    "sorted_d = sorted(d.items(), key=operator.itemgetter(1), reverse=True)[:1]\n",
    "for i in sorted_d:\n",
    "    print(i[0], i[1])"
   ]
  },
  {
   "cell_type": "code",
   "execution_count": null,
   "metadata": {},
   "outputs": [],
   "source": []
  }
 ],
 "metadata": {
  "kernelspec": {
   "display_name": "Python 3",
   "language": "python",
   "name": "python3"
  },
  "language_info": {
   "codemirror_mode": {
    "name": "ipython",
    "version": 3
   },
   "file_extension": ".py",
   "mimetype": "text/x-python",
   "name": "python",
   "nbconvert_exporter": "python",
   "pygments_lexer": "ipython3",
   "version": "3.7.6"
  }
 },
 "nbformat": 4,
 "nbformat_minor": 4
}
