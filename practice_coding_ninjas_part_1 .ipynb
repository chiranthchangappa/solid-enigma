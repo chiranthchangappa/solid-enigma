{
 "cells": [
  {
   "cell_type": "code",
   "execution_count": 8,
   "metadata": {},
   "outputs": [
    {
     "name": "stdout",
     "output_type": "stream",
     "text": [
      "10\n",
      "1\n",
      "3\n",
      "6\n",
      "10\n",
      "15\n",
      "21\n",
      "28\n",
      "36\n",
      "45\n",
      "55\n"
     ]
    }
   ],
   "source": [
    "# sum of natural numbers\n",
    "n = int(input())\n",
    "count = 1\n",
    "sum = 0\n",
    "while count <=n : \n",
    "        sum = sum + count\n",
    "        count = count + 1\n",
    "        print(sum)"
   ]
  },
  {
   "cell_type": "code",
   "execution_count": 14,
   "metadata": {},
   "outputs": [
    {
     "name": "stdout",
     "output_type": "stream",
     "text": [
      "5\n",
      "15\n"
     ]
    }
   ],
   "source": [
    "n = int(input())\n",
    "count = 1\n",
    "sum = 0\n",
    "while count <=n : \n",
    "        sum = sum + count\n",
    "        count = count + 1\n",
    "print(sum)"
   ]
  },
  {
   "cell_type": "code",
   "execution_count": 27,
   "metadata": {},
   "outputs": [
    {
     "name": "stdout",
     "output_type": "stream",
     "text": [
      "10\n",
      "30\n"
     ]
    }
   ],
   "source": [
    "#sum of even numbers\n",
    "n = int(input())\n",
    "count = 1\n",
    "sum = 0\n",
    "while count <= n:\n",
    "    if count % 2 == 0:\n",
    "        sum = sum + count\n",
    "    count = count +1\n",
    "print(sum)"
   ]
  },
  {
   "cell_type": "code",
   "execution_count": 5,
   "metadata": {},
   "outputs": [
    {
     "name": "stdout",
     "output_type": "stream",
     "text": [
      "0\n",
      " prime\n"
     ]
    }
   ],
   "source": [
    "# finding prime\n",
    "n = int(input())\n",
    "d = 2\n",
    "flag = False\n",
    "while d < n:\n",
    "    if (n % d == 0):\n",
    "        flag = True\n",
    "    d = d + 1\n",
    "\n",
    "if flag:\n",
    "    print('its not prime')\n",
    "else:\n",
    "    print(' prime')"
   ]
  },
  {
   "cell_type": "code",
   "execution_count": 14,
   "metadata": {},
   "outputs": [
    {
     "name": "stdout",
     "output_type": "stream",
     "text": [
      "10\n",
      "2\n",
      "3\n",
      "5\n",
      "7\n"
     ]
    }
   ],
   "source": [
    "#nested loops\n",
    "\n",
    "n = int(input())\n",
    "k = 2\n",
    "while k < n:\n",
    "    d = 2\n",
    "    flag = False\n",
    "    while d < k:\n",
    "        if k % d == 0:\n",
    "            flag = True\n",
    "        d = d + 1\n",
    "    if not flag:\n",
    "        print(k)\n",
    "    k = k + 1"
   ]
  },
  {
   "cell_type": "code",
   "execution_count": 34,
   "metadata": {},
   "outputs": [
    {
     "name": "stdout",
     "output_type": "stream",
     "text": [
      "20\n",
      "200\n",
      "20\n",
      "20  -6\n",
      "40  4\n",
      "60  15\n",
      "80  26\n",
      "100  37\n",
      "120  48\n",
      "140  60\n",
      "160  71\n",
      "180  82\n",
      "200  93\n"
     ]
    }
   ],
   "source": [
    "# Converting farenhit to celcius in a table\n",
    "#(100°F − 32) × 5/9 = 37.778°C\n",
    "\n",
    "start = int(input())\n",
    "end = int(input())\n",
    "step = int(input())\n",
    "\n",
    "cur_temp = start\n",
    "\n",
    "while cur_temp <= end:\n",
    "    c = 5/9 * (cur_temp - 32)\n",
    "    print(cur_temp, '',int(c))\n",
    "    cur_temp = cur_temp + step"
   ]
  },
  {
   "cell_type": "code",
   "execution_count": 26,
   "metadata": {},
   "outputs": [
    {
     "name": "stdout",
     "output_type": "stream",
     "text": [
      "5\n",
      "50\n",
      "5\n",
      "5  -15\n",
      "10  -12\n",
      "15  -9\n",
      "20  -6\n",
      "25  -3\n",
      "30  -1\n",
      "35  1\n",
      "40  4\n",
      "45  7\n",
      "50  10\n"
     ]
    }
   ],
   "source": [
    "S = int(input())\n",
    "E = int(input())\n",
    "W = int(input())\n",
    "\n",
    "cur_temp = S\n",
    "\n",
    "while cur_temp <= E:\n",
    "    c = 5/9 * (cur_temp - 32)\n",
    "    print(cur_temp, '',int(c))\n",
    "    cur_temp = cur_temp + W"
   ]
  },
  {
   "cell_type": "code",
   "execution_count": 36,
   "metadata": {},
   "outputs": [
    {
     "name": "stdout",
     "output_type": "stream",
     "text": [
      "456\n",
      "654\n"
     ]
    }
   ],
   "source": [
    "# reverse number\n",
    "def reverse(n):\n",
    "    rev = 0\n",
    "    while(n > 0):\n",
    "        rem = n % 10\n",
    "        rev = (rev * 10) + rem\n",
    "        n = n // 10\n",
    "    return rev\n",
    "\n",
    "n=int(input())\n",
    "result = reverse(n)\n",
    "print(result)"
   ]
  },
  {
   "cell_type": "code",
   "execution_count": 9,
   "metadata": {},
   "outputs": [
    {
     "name": "stdout",
     "output_type": "stream",
     "text": [
      "125\n",
      "false\n"
     ]
    }
   ],
   "source": [
    "def checkPalindrome(num):\n",
    "    temp = num\n",
    "    \n",
    "    reverse = 0\n",
    "    if num == 0:\n",
    "        return True\n",
    "    else:\n",
    "        \n",
    "        while num > 0:\n",
    "            r = num % 10\n",
    "            reverse = (reverse * 10) + r\n",
    "            num = num//10\n",
    "\n",
    "        if temp == reverse:\n",
    "            return True\n",
    "        else:\n",
    "            return False\n",
    "\n",
    "        pass\n",
    "\n",
    "num = int(input())\n",
    "isPalindrome = checkPalindrome(num)\n",
    "if(isPalindrome):\n",
    "    print('true')\n",
    "else:\n",
    "    print('false')"
   ]
  },
  {
   "cell_type": "code",
   "execution_count": 11,
   "metadata": {},
   "outputs": [
    {
     "name": "stdout",
     "output_type": "stream",
     "text": [
      "456789\n",
      "even 18 odd 21\n"
     ]
    }
   ],
   "source": [
    "# finiding sum of odd and even in a given number\n",
    "n=int(input())\n",
    "even = 0\n",
    "odd = 0\n",
    "while(n > 0):\n",
    "    digit = n % 10\n",
    "    n = n //10\n",
    "    rem = digit % 2\n",
    "    if(rem != 0):\n",
    "        odd = odd + digit\n",
    "    else:\n",
    "        even = even + digit\n",
    "print('even', even, 'odd', odd)"
   ]
  },
  {
   "cell_type": "code",
   "execution_count": 21,
   "metadata": {},
   "outputs": [
    {
     "name": "stdout",
     "output_type": "stream",
     "text": [
      "6\n",
      "8\n"
     ]
    }
   ],
   "source": [
    "# how does this program run ?\n",
    "def fib(n):\n",
    "    if(n<=1):\n",
    "        return n\n",
    "    else:\n",
    "        return (fib(n-1)+ fib(n-2))\n",
    "n = int(input())   \n",
    "result = fib(n)\n",
    "print(result)"
   ]
  },
  {
   "cell_type": "markdown",
   "metadata": {},
   "source": [
    "##simple calculator\n"
   ]
  },
  {
   "cell_type": "code",
   "execution_count": 14,
   "metadata": {},
   "outputs": [
    {
     "name": "stdout",
     "output_type": "stream",
     "text": [
      "2\n",
      "50\n",
      "150\n",
      "100\n"
     ]
    }
   ],
   "source": [
    "# Write your code here\n",
    "while True:\n",
    "    choice = int(input())\n",
    "    if (choice == 1):\n",
    "        a = int(input())\n",
    "        b = int(input())\n",
    "        print(a + b)\n",
    "        break\n",
    "    elif (choice == 2):\n",
    "        a = int(input())\n",
    "        b = int(input())\n",
    "        if a > b:\n",
    "            print((a-b))\n",
    "        else:\n",
    "            print((b-a))\n",
    "        break\n",
    "    elif (choice == 3):\n",
    "        a = int(input())\n",
    "        b = int(input())\n",
    "        print(a*b)\n",
    "        break\n",
    "    elif (choice == 4):\n",
    "        a = int(input())\n",
    "        b = int(input())\n",
    "        print(a//b)\n",
    "        break\n",
    "    elif (choice == 5):\n",
    "        a = int(input())\n",
    "        b = int(input())\n",
    "        print(a%b)\n",
    "        break\n",
    "    elif (choice == 6):\n",
    "        break\n",
    "    else:\n",
    "        print('invalid operation')\n",
    "        break"
   ]
  },
  {
   "cell_type": "markdown",
   "metadata": {},
   "source": [
    "### pattern"
   ]
  },
  {
   "cell_type": "code",
   "execution_count": 1,
   "metadata": {},
   "outputs": [
    {
     "name": "stdout",
     "output_type": "stream",
     "text": [
      "2\n",
      "**\n",
      "**\n"
     ]
    }
   ],
   "source": [
    "n = int(input())\n",
    "i = 1\n",
    "while i <= n:\n",
    "    j = 1\n",
    "    while j <= n:\n",
    "        print('*', end='')\n",
    "        j = j + 1\n",
    "    print()\n",
    "    i = i + 1\n"
   ]
  },
  {
   "cell_type": "code",
   "execution_count": 20,
   "metadata": {},
   "outputs": [
    {
     "name": "stdout",
     "output_type": "stream",
     "text": [
      "5\n",
      "55555\n",
      "55555\n",
      "55555\n",
      "55555\n",
      "55555\n"
     ]
    }
   ],
   "source": [
    "n = int(input())\n",
    "i = 1\n",
    "while i <= n:\n",
    "    j = 1\n",
    "    while j <= n:\n",
    "        print(n, end='')\n",
    "        j = j + 1\n",
    "    print()\n",
    "    i = i + 1"
   ]
  },
  {
   "cell_type": "code",
   "execution_count": 22,
   "metadata": {},
   "outputs": [
    {
     "name": "stdout",
     "output_type": "stream",
     "text": [
      "4\n",
      "1111\n",
      "2222\n",
      "3333\n",
      "4444\n"
     ]
    }
   ],
   "source": [
    "n = int(input())\n",
    "i = 1\n",
    "while i <= n:\n",
    "    j = 1\n",
    "    while j <= n:\n",
    "        print(i, end='')\n",
    "        j = j + 1\n",
    "    print()\n",
    "    i = i + 1"
   ]
  },
  {
   "cell_type": "code",
   "execution_count": 23,
   "metadata": {},
   "outputs": [
    {
     "name": "stdout",
     "output_type": "stream",
     "text": [
      "4\n",
      "1234\n",
      "1234\n",
      "1234\n",
      "1234\n"
     ]
    }
   ],
   "source": [
    "n = int(input())\n",
    "i = 1\n",
    "while i <= n:\n",
    "    j = 1\n",
    "    while j <= n:\n",
    "        print(j, end='')\n",
    "        j = j + 1\n",
    "    print()\n",
    "    i = i + 1"
   ]
  },
  {
   "cell_type": "code",
   "execution_count": 24,
   "metadata": {},
   "outputs": [
    {
     "name": "stdout",
     "output_type": "stream",
     "text": [
      "5\n",
      "54321\n",
      "54321\n",
      "54321\n",
      "54321\n",
      "54321\n"
     ]
    }
   ],
   "source": [
    "n = int(input())\n",
    "i = 1\n",
    "while i <= n:\n",
    "    j = 1\n",
    "    while j <= n:\n",
    "        print(n-j+1, end='')\n",
    "        j = j + 1\n",
    "    print()\n",
    "    i = i + 1"
   ]
  },
  {
   "cell_type": "code",
   "execution_count": 8,
   "metadata": {},
   "outputs": [
    {
     "name": "stdout",
     "output_type": "stream",
     "text": [
      "5\n",
      "1\n",
      "12\n",
      "123\n",
      "1234\n",
      "12345\n"
     ]
    }
   ],
   "source": [
    "n = int(input())\n",
    "i = 1\n",
    "while i <= n:\n",
    "    j = 1\n",
    "    while j <= i:\n",
    "        print(j, end='')\n",
    "        j = j + 1\n",
    "    print()\n",
    "    i = i + 1"
   ]
  },
  {
   "cell_type": "code",
   "execution_count": 10,
   "metadata": {},
   "outputs": [
    {
     "name": "stdout",
     "output_type": "stream",
     "text": [
      "5\n",
      "1\n",
      "23\n",
      "345\n",
      "4567\n",
      "56789\n"
     ]
    }
   ],
   "source": [
    "n = int(input())\n",
    "i = 1\n",
    "while i <= n:\n",
    "    p = i\n",
    "    j = 1\n",
    "    while j <= i:\n",
    "        print(p, end='')\n",
    "        p = p + 1\n",
    "        j = j + 1\n",
    "    print()\n",
    "    i = i + 1"
   ]
  },
  {
   "cell_type": "code",
   "execution_count": 23,
   "metadata": {},
   "outputs": [
    {
     "name": "stdout",
     "output_type": "stream",
     "text": [
      "5\n",
      "1\n",
      "23\n",
      "456\n",
      "78910\n",
      "1112131415\n"
     ]
    }
   ],
   "source": [
    "n = int(input())\n",
    "i = 1\n",
    "p = 1\n",
    "while i <= n:\n",
    "    j = 1\n",
    "    while j <= i:\n",
    "        print(p, end='')\n",
    "        p = p + 1\n",
    "        j = j + 1\n",
    "    print()\n",
    "    i = i + 1"
   ]
  },
  {
   "cell_type": "code",
   "execution_count": 13,
   "metadata": {},
   "outputs": [
    {
     "name": "stdout",
     "output_type": "stream",
     "text": [
      "5\n",
      "*\n",
      "**\n",
      "***\n",
      "****\n",
      "*****\n"
     ]
    }
   ],
   "source": [
    "n = int(input())\n",
    "i = 1\n",
    "while i <= n:\n",
    "    j = 1\n",
    "    while j <=i:\n",
    "        print('*', end='')\n",
    "        j = j + 1 \n",
    "    print()\n",
    "    i = i + 1"
   ]
  },
  {
   "cell_type": "code",
   "execution_count": 25,
   "metadata": {},
   "outputs": [
    {
     "name": "stdout",
     "output_type": "stream",
     "text": [
      "5\n",
      "1\n",
      "22\n",
      "333\n",
      "4444\n",
      "55555\n"
     ]
    }
   ],
   "source": [
    "n = int(input())\n",
    "i = 1\n",
    "p = 1\n",
    "while i <= n:\n",
    "    j = 1\n",
    "    while j <= i:\n",
    "        print(i, end='')\n",
    "        j  = j + 1\n",
    "    print()\n",
    "    i = i + 1\n",
    "    "
   ]
  },
  {
   "cell_type": "code",
   "execution_count": 27,
   "metadata": {},
   "outputs": [
    {
     "name": "stdout",
     "output_type": "stream",
     "text": [
      "5\n",
      "1\n",
      "21\n",
      "321\n",
      "4321\n",
      "54321\n"
     ]
    }
   ],
   "source": [
    "n  = int(input())\n",
    "i = 1\n",
    "while i <= n :\n",
    "    j = 1\n",
    "    p = i\n",
    "    while j <= i :\n",
    "        print(p,end=\"\")\n",
    "        j = j + 1\n",
    "        p = p - 1\n",
    "    print()\n",
    "    i = i + 1"
   ]
  },
  {
   "cell_type": "code",
   "execution_count": 51,
   "metadata": {},
   "outputs": [
    {
     "data": {
      "text/plain": [
       "65"
      ]
     },
     "execution_count": 51,
     "metadata": {},
     "output_type": "execute_result"
    }
   ],
   "source": [
    "ord('A')"
   ]
  },
  {
   "cell_type": "code",
   "execution_count": 27,
   "metadata": {},
   "outputs": [
    {
     "data": {
      "text/plain": [
       "'A'"
      ]
     },
     "execution_count": 27,
     "metadata": {},
     "output_type": "execute_result"
    }
   ],
   "source": [
    "chr(65)"
   ]
  },
  {
   "cell_type": "code",
   "execution_count": 63,
   "metadata": {},
   "outputs": [
    {
     "name": "stdout",
     "output_type": "stream",
     "text": [
      "4\n",
      "ABCD\n",
      "ABCD\n",
      "ABCD\n",
      "ABCD\n"
     ]
    }
   ],
   "source": [
    "n  = int(input())\n",
    "i = 1\n",
    "while i <= n :\n",
    "    j = 1\n",
    "    while j <= n :\n",
    "        charp = chr(ord('A') + j -1)\n",
    "        print(charp,end=\"\")\n",
    "        j = j + 1\n",
    "    print()\n",
    "    i = i + 1"
   ]
  },
  {
   "cell_type": "code",
   "execution_count": 60,
   "metadata": {},
   "outputs": [
    {
     "name": "stdout",
     "output_type": "stream",
     "text": [
      "5\n",
      "ABCDE\n",
      "BCDEF\n",
      "CDEFG\n",
      "DEFGH\n",
      "EFGHI\n"
     ]
    }
   ],
   "source": [
    "n  = int(input())\n",
    "i = 1\n",
    "while i <= n :\n",
    "    j = 1\n",
    "    star_v = chr(ord('A') + i - 1)\n",
    "    while j <= n :\n",
    "        charp = chr(ord(star_v) + j -1)\n",
    "        print(charp,end=\"\")\n",
    "        j = j + 1\n",
    "    print()\n",
    "    i = i + 1"
   ]
  },
  {
   "cell_type": "code",
   "execution_count": 65,
   "metadata": {},
   "outputs": [
    {
     "name": "stdout",
     "output_type": "stream",
     "text": [
      "4\n",
      "A\n",
      "BB\n",
      "CCC\n",
      "DDDD\n"
     ]
    }
   ],
   "source": [
    "n = int(input())\n",
    "i = 1\n",
    "while i <= n:\n",
    "    j = 1\n",
    "    while j <= i:\n",
    "        chrp = chr(ord('A') + i -1)\n",
    "        print(chrp, end='')\n",
    "        j = j + 1\n",
    "    print()\n",
    "    i = i + 1"
   ]
  },
  {
   "cell_type": "code",
   "execution_count": 71,
   "metadata": {},
   "outputs": [
    {
     "name": "stdout",
     "output_type": "stream",
     "text": [
      "4\n",
      "A\n",
      "BC\n",
      "CDE\n",
      "DEFG\n"
     ]
    }
   ],
   "source": [
    "n = int(input())\n",
    "i = 1\n",
    "while i <= n:\n",
    "    j = 1\n",
    "    str_v = chr(ord('A') + i - 1)\n",
    "    while j <= i:\n",
    "        charp = chr(ord(str_v)+ j - 1)\n",
    "        print(charp, end='')\n",
    "        j = j + 1\n",
    "    print()\n",
    "    i = i + 1"
   ]
  },
  {
   "cell_type": "code",
   "execution_count": 29,
   "metadata": {},
   "outputs": [
    {
     "name": "stdout",
     "output_type": "stream",
     "text": [
      "4\n",
      "D\n",
      "CD\n",
      "BCD\n",
      "ABCD\n"
     ]
    }
   ],
   "source": [
    "n = int(input())\n",
    "i = 1\n",
    "while i <= n:\n",
    "    j = 1\n",
    "    str_v = chr(ord('A') +n-i)\n",
    "    while j <= i:\n",
    "        charp = chr(ord(str_v)+j-1 )\n",
    "        print(charp, end='')\n",
    "        j = j + 1\n",
    "    print()\n",
    "    i = i + 1\n",
    "    "
   ]
  },
  {
   "cell_type": "code",
   "execution_count": 17,
   "metadata": {},
   "outputs": [
    {
     "name": "stdout",
     "output_type": "stream",
     "text": [
      "5\n",
      "55555\n",
      "4444\n",
      "333\n",
      "22\n",
      "1\n"
     ]
    }
   ],
   "source": [
    "n = int(input())\n",
    "i = 1\n",
    "while i <= n:\n",
    "    j = 1\n",
    "    p = n - i + 1\n",
    "    while j <= n - i +1:\n",
    "        print(p, end='')\n",
    "        j = j + 1\n",
    "    print()\n",
    "    i = i + 1"
   ]
  },
  {
   "cell_type": "raw",
   "metadata": {},
   "source": [
    "    *\n",
    "   **\n",
    "  ***\n",
    " **** "
   ]
  },
  {
   "cell_type": "code",
   "execution_count": 20,
   "metadata": {},
   "outputs": [
    {
     "name": "stdout",
     "output_type": "stream",
     "text": [
      "5\n",
      "    *\n",
      "   **\n",
      "  ***\n",
      " ****\n",
      "*****\n"
     ]
    }
   ],
   "source": [
    "n = int(input())\n",
    "i = 1\n",
    "while i <= n:\n",
    "    space = 1\n",
    "    while space <= n - i:\n",
    "        print(' ',end= '')\n",
    "        space = space + 1\n",
    "    star = 1\n",
    "    while star <= i:\n",
    "        print('*',end='')\n",
    "        star = star + 1\n",
    "    print()\n",
    "    i = i + 1"
   ]
  },
  {
   "cell_type": "raw",
   "metadata": {},
   "source": [
    "   1\n",
    "  12\n",
    " 123"
   ]
  },
  {
   "cell_type": "code",
   "execution_count": 34,
   "metadata": {},
   "outputs": [
    {
     "name": "stdout",
     "output_type": "stream",
     "text": [
      "5\n",
      "    1\n",
      "   12\n",
      "  123\n",
      " 1234\n",
      "12345\n"
     ]
    }
   ],
   "source": [
    "n = int(input())\n",
    "i = 1\n",
    "while i <= n:\n",
    "    space = 1\n",
    "    while space <= n - i:\n",
    "        print(' ',end ='')\n",
    "        space = space + 1\n",
    "    p = 1\n",
    "    j = 1\n",
    "    while j <= i:\n",
    "        print(p, end='')\n",
    "        p = p + 1\n",
    "        j = j + 1\n",
    "    print()\n",
    "    i = i + 1"
   ]
  },
  {
   "cell_type": "raw",
   "metadata": {},
   "source": [
    "    1\n",
    "   121\n",
    "  12321\n",
    " 1234321"
   ]
  },
  {
   "cell_type": "code",
   "execution_count": 43,
   "metadata": {},
   "outputs": [
    {
     "name": "stdout",
     "output_type": "stream",
     "text": [
      "4\n",
      "   1\n",
      "  121\n",
      " 12321\n",
      "1234321\n"
     ]
    }
   ],
   "source": [
    "n = int(input())\n",
    "i = 1\n",
    "while i <= n:\n",
    "    space = 1\n",
    "    #spaces\n",
    "    while space <= n - i:\n",
    "        print(' ',end ='')\n",
    "        space = space + 1\n",
    "    p = 1\n",
    "    j = 1\n",
    "    #increasing seq\n",
    "    while j <= i:\n",
    "        print(p, end='')\n",
    "        p = p + 1\n",
    "        j = j + 1\n",
    "    #decreasing seq\n",
    "    p = i-1\n",
    "    while p >= 1:\n",
    "        print(p, end= '')\n",
    "        p = p - 1\n",
    "    print()\n",
    "    i = i + 1"
   ]
  },
  {
   "cell_type": "code",
   "execution_count": 18,
   "metadata": {},
   "outputs": [
    {
     "name": "stdout",
     "output_type": "stream",
     "text": [
      "4\n",
      "   1\n",
      "  232\n",
      " 34543\n",
      "4567654\n"
     ]
    }
   ],
   "source": [
    "n = int(input())\n",
    "i = 1\n",
    "k = 1\n",
    "while i <= n:\n",
    "    j = 1 \n",
    "    while j <= n - i :\n",
    "        print(' ',end= '')\n",
    "        j = j + 1\n",
    "    j = 1\n",
    "    k = i\n",
    "    while j <= i:\n",
    "        print(k, end='')\n",
    "        k = k + 1\n",
    "        j = j + 1\n",
    "    k = k - 2\n",
    "    while k >= i:\n",
    "        print(k,end='')\n",
    "        k = k - 1 \n",
    "    print()\n",
    "    i = i + 1"
   ]
  },
  {
   "cell_type": "raw",
   "metadata": {},
   "source": [
    "    *\n",
    "   * * \n",
    "  * * *\n",
    " * * * *\n",
    "  * * *\n",
    "   * * \n",
    "    *"
   ]
  },
  {
   "cell_type": "code",
   "execution_count": 28,
   "metadata": {},
   "outputs": [
    {
     "name": "stdout",
     "output_type": "stream",
     "text": [
      "5\n",
      "    *\n",
      "   ***\n",
      "  *****\n",
      " *******\n",
      "*********\n"
     ]
    }
   ],
   "source": [
    "n = int(input())\n",
    "i = 1\n",
    "while i <= n:\n",
    "    space = 1\n",
    "    #spaces\n",
    "    while space <= n - i:\n",
    "        print(' ',end ='')\n",
    "        space = space + 1\n",
    "    p = 1\n",
    "    j = 1\n",
    "    #increasing seq\n",
    "    while j <= i:\n",
    "        print('*', end='')\n",
    "        p = p + 1\n",
    "        j = j + 1\n",
    "    #decreasing seq\n",
    "    p = i-1\n",
    "    while p >= 1:\n",
    "        print('*', end= '')\n",
    "        p = p - 1\n",
    "    print()\n",
    "    i = i + 1"
   ]
  },
  {
   "cell_type": "code",
   "execution_count": 34,
   "metadata": {},
   "outputs": [
    {
     "name": "stdout",
     "output_type": "stream",
     "text": [
      "10\n",
      "     *\n",
      "    ***\n",
      "   *****\n",
      "  *******\n",
      " *********\n",
      "***********\n",
      " *******\n",
      "  *****\n",
      "   ***\n",
      "    *\n"
     ]
    }
   ],
   "source": [
    "n = int(input())\n",
    "n1 = n//2 + 1\n",
    "n2 = n - n1\n",
    "\n",
    "i = 1\n",
    "while i <= n1:\n",
    "    spaces = 1\n",
    "    while spaces <= n1 - i:\n",
    "        print(' ', end = '')\n",
    "        spaces += 1\n",
    "    stars = 1\n",
    "    while stars <= (2*i) - 1:\n",
    "        print('*', end = '')\n",
    "        stars += 1\n",
    "    print()\n",
    "    i = i + 1\n",
    "\n",
    "i = 1\n",
    "while i <= n2:\n",
    "    spaces = 1\n",
    "    while spaces <= i:\n",
    "        print(' ',end='')\n",
    "        spaces += 1\n",
    "    stars = 1\n",
    "    while stars <= 2*n2 - 2*i + 1:\n",
    "        print('*', end = '')\n",
    "        stars += 1\n",
    "    print()\n",
    "    i = i + 1\n",
    "    "
   ]
  },
  {
   "cell_type": "raw",
   "metadata": {},
   "source": [
    "*********\n",
    " *******\n",
    "  *****\n",
    "   ***\n",
    "    *"
   ]
  },
  {
   "cell_type": "code",
   "execution_count": 17,
   "metadata": {},
   "outputs": [
    {
     "name": "stdout",
     "output_type": "stream",
     "text": [
      "5\n",
      "*********\n",
      " *******\n",
      "  *****\n",
      "   ***\n",
      "    *\n"
     ]
    }
   ],
   "source": [
    "# inverted triangle\n",
    "n = int(input())\n",
    "i = 1\n",
    "while i <= n:\n",
    "    space = 1\n",
    "    #spaces\n",
    "    while space <= i - 1:\n",
    "        print(' ',end ='')\n",
    "        space = space + 1\n",
    "    p = 1\n",
    "    j = 1\n",
    "    #increasing seq\n",
    "    while j <= n - i + 1:\n",
    "        print('*', end='')\n",
    "        p = p + 1\n",
    "        j = j + 1\n",
    "    #decreasing seq\n",
    "    p = 1 \n",
    "    while p <= n - i:\n",
    "        print('*', end= '')\n",
    "        p = p + 1\n",
    "    print()\n",
    "    i = i + 1"
   ]
  },
  {
   "cell_type": "code",
   "execution_count": 26,
   "metadata": {},
   "outputs": [
    {
     "name": "stdout",
     "output_type": "stream",
     "text": [
      "4\n",
      "2\n"
     ]
    }
   ],
   "source": [
    "n = int(input())\n",
    "sqrt = n ** 0.5\n",
    "result = int(sqrt // 1)\n",
    "print(result)"
   ]
  },
  {
   "cell_type": "code",
   "execution_count": null,
   "metadata": {},
   "outputs": [],
   "source": [
    "    *\n",
    "   **\n",
    "  ***\n",
    " ****\n",
    "*****"
   ]
  },
  {
   "cell_type": "code",
   "execution_count": 67,
   "metadata": {},
   "outputs": [
    {
     "name": "stdout",
     "output_type": "stream",
     "text": [
      "5\n",
      "    1\n",
      "   121\n",
      "  12321\n",
      " 1234321\n",
      "123454321\n"
     ]
    }
   ],
   "source": [
    "n = int(input())\n",
    "i = 1\n",
    "while i <= n:\n",
    "    space = 1\n",
    "    while space <= n - i:\n",
    "        print(' ',end='')\n",
    "        space += 1\n",
    "    j = 1\n",
    "    while j <= i:\n",
    "        print(j, end='')\n",
    "        j = j+ 1\n",
    "    p = i - 1\n",
    "    while p >= 1:\n",
    "        print(p,end='')\n",
    "        p = p -1\n",
    "    print()\n",
    "    i = i + 1"
   ]
  },
  {
   "cell_type": "code",
   "execution_count": null,
   "metadata": {},
   "outputs": [],
   "source": []
  }
 ],
 "metadata": {
  "kernelspec": {
   "display_name": "Python 3",
   "language": "python",
   "name": "python3"
  },
  "language_info": {
   "codemirror_mode": {
    "name": "ipython",
    "version": 3
   },
   "file_extension": ".py",
   "mimetype": "text/x-python",
   "name": "python",
   "nbconvert_exporter": "python",
   "pygments_lexer": "ipython3",
   "version": "3.8.3"
  }
 },
 "nbformat": 4,
 "nbformat_minor": 4
}
